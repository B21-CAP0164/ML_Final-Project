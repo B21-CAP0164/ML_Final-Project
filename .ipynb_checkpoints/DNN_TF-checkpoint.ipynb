{
 "cells": [
  {
   "cell_type": "code",
   "execution_count": 1,
   "id": "409510c5",
   "metadata": {},
   "outputs": [
    {
     "name": "stdout",
     "output_type": "stream",
     "text": [
      "Requirement already satisfied: opencv-python in d:\\anaconda\\envs\\tf2.4\\lib\\site-packages (4.5.2.52)\n",
      "Requirement already satisfied: numpy>=1.17.3 in d:\\anaconda\\envs\\tf2.4\\lib\\site-packages (from opencv-python) (1.19.5)\n",
      "Requirement already satisfied: imutils in d:\\anaconda\\envs\\tf2.4\\lib\\site-packages (0.5.4)\n"
     ]
    }
   ],
   "source": [
    "!pip install opencv-python\n",
    "!pip install imutils"
   ]
  },
  {
   "cell_type": "code",
   "execution_count": 2,
   "id": "02d20adc",
   "metadata": {},
   "outputs": [],
   "source": [
    "from imutils import face_utils \n",
    "import numpy as np\n",
    "import argparse \n",
    "import imutils\n",
    "import cv2\n",
    "import os\n",
    "from keras.utils import np_utils\n",
    "from tensorflow.keras.applications.mobilenet_v2 import preprocess_input"
   ]
  },
  {
   "cell_type": "code",
   "execution_count": 3,
   "id": "f9272a81",
   "metadata": {},
   "outputs": [
    {
     "name": "stdout",
     "output_type": "stream",
     "text": [
      "None\n"
     ]
    }
   ],
   "source": [
    "names = ['good', 'poor', 'very_poor']\n",
    "\n",
    "def getLabel(id):\n",
    "    return  ['good', 'poor', 'very_poor'][id]\n",
    "\n",
    "def getLabelName(name):\n",
    "  if name == 'good_new': return 0\n",
    "  elif name == 'poor_new': return 1\n",
    "  elif name == 'very_poor_new': return 2\n",
    "\n",
    "print(getLabelName('good'))"
   ]
  },
  {
   "cell_type": "code",
   "execution_count": 4,
   "id": "398474c2",
   "metadata": {},
   "outputs": [],
   "source": [
    "def get_data_from_folder():\n",
    "  data_dir_list = ['poor_new', 'good_new', 'very_poor_new']\n",
    "  img_data_list= []\n",
    "  labels = []\n",
    "\n",
    "  for dataset in data_dir_list:\n",
    "      img_list=os.listdir(dataset)\n",
    "      init_label = getLabelName(dataset)\n",
    "      print(dataset)\n",
    "      print('Loaded the images of dataset-'+'{}\\n'.format(dataset))\n",
    "      print(len(img_list))\n",
    "      for img in img_list:\n",
    "          img_data_list.append(dataset + '/'+ img)\n",
    "          labels.append(init_label)\n",
    "  num_classes = 3\n",
    "  Y = np_utils.to_categorical(labels, num_classes)\n",
    "  return img_data_list, Y"
   ]
  },
  {
   "cell_type": "code",
   "execution_count": 10,
   "id": "3a04d5af",
   "metadata": {},
   "outputs": [
    {
     "ename": "FileNotFoundError",
     "evalue": "[WinError 2] The system cannot find the file specified: 'sih_road_dataset'",
     "output_type": "error",
     "traceback": [
      "\u001b[1;31m---------------------------------------------------------------------------\u001b[0m",
      "\u001b[1;31mFileNotFoundError\u001b[0m                         Traceback (most recent call last)",
      "\u001b[1;32m<ipython-input-10-7c6f82970599>\u001b[0m in \u001b[0;36m<module>\u001b[1;34m\u001b[0m\n\u001b[1;32m----> 1\u001b[1;33m \u001b[0mos\u001b[0m\u001b[1;33m.\u001b[0m\u001b[0mchdir\u001b[0m\u001b[1;33m(\u001b[0m\u001b[1;34m\"sih_road_dataset\"\u001b[0m\u001b[1;33m)\u001b[0m\u001b[1;33m\u001b[0m\u001b[1;33m\u001b[0m\u001b[0m\n\u001b[0m\u001b[0;32m      2\u001b[0m \u001b[0mimg_data_list\u001b[0m\u001b[1;33m,\u001b[0m \u001b[0my_data\u001b[0m \u001b[1;33m=\u001b[0m \u001b[0mget_data_from_folder\u001b[0m\u001b[1;33m(\u001b[0m\u001b[1;33m)\u001b[0m\u001b[1;33m\u001b[0m\u001b[1;33m\u001b[0m\u001b[0m\n",
      "\u001b[1;31mFileNotFoundError\u001b[0m: [WinError 2] The system cannot find the file specified: 'sih_road_dataset'"
     ]
    }
   ],
   "source": [
    "os.chdir(\"Dataset\")\n",
    "img_data_list, y_data = get_data_from_folder()"
   ]
  },
  {
   "cell_type": "code",
   "execution_count": 14,
   "id": "4c2f8a11",
   "metadata": {},
   "outputs": [
    {
     "data": {
      "text/plain": [
       "'D:\\\\ML_Final-Project'"
      ]
     },
     "execution_count": 14,
     "metadata": {},
     "output_type": "execute_result"
    }
   ],
   "source": [
    "os.chdir(\"D:/ML_Final-Project\")\n",
    "os.getcwd()"
   ]
  },
  {
   "cell_type": "code",
   "execution_count": 15,
   "id": "cfb2da8e",
   "metadata": {},
   "outputs": [
    {
     "name": "stdout",
     "output_type": "stream",
     "text": [
      "skip\n",
      "skip\n",
      "skip\n",
      "skip\n",
      "skip\n",
      "skip\n",
      "skip\n",
      "skip\n",
      "skip\n",
      "skip\n",
      "skip\n",
      "skip\n",
      "skip\n",
      "skip\n",
      "skip\n",
      "skip\n",
      "skip\n",
      "skip\n",
      "skip\n",
      "skip\n",
      "skip\n",
      "skip\n",
      "skip\n",
      "skip\n",
      "skip\n",
      "skip\n",
      "skip\n",
      "skip\n",
      "skip\n"
     ]
    }
   ],
   "source": [
    "# good\n",
    "for i in range(100,129):\n",
    "  try:\n",
    "    name = 'good/good_'+str(i)+'.JPG'\n",
    "    img = cv2.imread(name)\n",
    "\n",
    "    h,w = img.shape[:2]\n",
    "\n",
    "    x = 100\n",
    "    width = w - 700\n",
    "    y = 1000\n",
    "    height = h -20\n",
    "    img = img[y:height, x:width]\n",
    "\n",
    "    print(img.shape[:2])\n",
    "\n",
    "    dim = (400, 400)\n",
    "    img = cv2.resize(img, dim, interpolation = cv2.INTER_AREA)\n",
    "    cv2_imshow(img)\n",
    "\n",
    "    cv2.imwrite('good_new/good_'+str(i)+'.JPG',img)\n",
    "  except:\n",
    "    print('skip')"
   ]
  },
  {
   "cell_type": "code",
   "execution_count": 16,
   "id": "eac17455",
   "metadata": {},
   "outputs": [
    {
     "name": "stdout",
     "output_type": "stream",
     "text": [
      "skip\n",
      "skip\n",
      "skip\n",
      "skip\n",
      "skip\n",
      "skip\n",
      "skip\n"
     ]
    }
   ],
   "source": [
    "# poor\n",
    "for i in range(390,397):\n",
    "  try:\n",
    "    name = 'poor/poor_'+str(i)+'.jpg'\n",
    "    img = cv2.imread(name)\n",
    "\n",
    "    h,w = img.shape[:2]\n",
    "    print(img.shape[:2])\n",
    "\n",
    "    x = 100\n",
    "    width = w\n",
    "    y = 350\n",
    "    height = h - 120\n",
    "    img = img[y:height, x:width]\n",
    "\n",
    "    print(img.shape[:2])\n",
    "\n",
    "    dim = (400, 400)\n",
    "    img = cv2.resize(img, dim, interpolation = cv2.INTER_AREA)\n",
    "    cv2_imshow(img)\n",
    "\n",
    "    cv2.imwrite('poor_new/poor_'+str(i)+'.jpg',img)\n",
    "  except:\n",
    "    print('skip')"
   ]
  },
  {
   "cell_type": "code",
   "execution_count": 17,
   "id": "4a3c3a9d",
   "metadata": {},
   "outputs": [
    {
     "name": "stdout",
     "output_type": "stream",
     "text": [
      "skip\n",
      "skip\n"
     ]
    }
   ],
   "source": [
    "# very poor\n",
    "for i in range(200,202):\n",
    "  try:\n",
    "    name = 'very_poor/verypoor_'+str(i)+'.jpg'\n",
    "    img = cv2.imread(name)\n",
    "\n",
    "    h,w = img.shape[:2]\n",
    "    print(img.shape[:2])\n",
    "\n",
    "    x = 200\n",
    "    width = w-200\n",
    "    y = 200\n",
    "    height = h\n",
    "    img = img[y:height, x:width]\n",
    "\n",
    "    print(img.shape[:2])\n",
    "\n",
    "    dim = (400, 400)\n",
    "    img = cv2.resize(img, dim, interpolation = cv2.INTER_AREA)\n",
    "    cv2_imshow(img)\n",
    "\n",
    "    cv2.imwrite('very_poor_new/verypoor_00'+str(i)+'.jpg',img)\n",
    "  except:\n",
    "    print('skip')"
   ]
  },
  {
   "cell_type": "code",
   "execution_count": 18,
   "id": "70e11749",
   "metadata": {},
   "outputs": [],
   "source": [
    "def praproses(img):\n",
    "  #ubah ukuran\n",
    "  dim = (100, 100)\n",
    "  img = cv2.resize(img, dim, interpolation = cv2.INTER_AREA)\n",
    "\n",
    "  #grayscale\n",
    "  img = cv2.cvtColor(img, cv2.COLOR_BGR2GRAY)\n",
    "  return img"
   ]
  },
  {
   "cell_type": "code",
   "execution_count": 19,
   "id": "5a7ec66c",
   "metadata": {},
   "outputs": [],
   "source": [
    "def get_array_img(img_data_list):\n",
    "  hasil_feature = []\n",
    "  for i in img_data_list:\n",
    "    hasil = cv2.imread(i)\n",
    "    print(i)\n",
    "    hasil_praproses=praproses(hasil)\n",
    "    hasil_feature.append(hasil_praproses)\n",
    "\n",
    "  img_data = np.array(hasil_feature)\n",
    "  img_data = img_data.astype('float32')\n",
    "  img_data = img_data/255\n",
    "  img_data.shape\n",
    "  return img_data"
   ]
  },
  {
   "cell_type": "code",
   "execution_count": 20,
   "id": "2b0d856f",
   "metadata": {},
   "outputs": [
    {
     "ename": "NameError",
     "evalue": "name 'img_data_list' is not defined",
     "output_type": "error",
     "traceback": [
      "\u001b[1;31m---------------------------------------------------------------------------\u001b[0m",
      "\u001b[1;31mNameError\u001b[0m                                 Traceback (most recent call last)",
      "\u001b[1;32m<ipython-input-20-40a069e61863>\u001b[0m in \u001b[0;36m<module>\u001b[1;34m\u001b[0m\n\u001b[0;32m      1\u001b[0m \u001b[1;31m# get array image train\u001b[0m\u001b[1;33m\u001b[0m\u001b[1;33m\u001b[0m\u001b[1;33m\u001b[0m\u001b[0m\n\u001b[1;32m----> 2\u001b[1;33m \u001b[0mdata_array\u001b[0m \u001b[1;33m=\u001b[0m \u001b[0mget_array_img\u001b[0m\u001b[1;33m(\u001b[0m\u001b[0mimg_data_list\u001b[0m\u001b[1;33m)\u001b[0m\u001b[1;33m\u001b[0m\u001b[1;33m\u001b[0m\u001b[0m\n\u001b[0m",
      "\u001b[1;31mNameError\u001b[0m: name 'img_data_list' is not defined"
     ]
    }
   ],
   "source": [
    "# get array image train\n",
    "data_array = get_array_img(img_data_list)"
   ]
  },
  {
   "cell_type": "code",
   "execution_count": 22,
   "id": "109e0021",
   "metadata": {},
   "outputs": [
    {
     "ename": "NameError",
     "evalue": "name 'data_array' is not defined",
     "output_type": "error",
     "traceback": [
      "\u001b[1;31m---------------------------------------------------------------------------\u001b[0m",
      "\u001b[1;31mNameError\u001b[0m                                 Traceback (most recent call last)",
      "\u001b[1;32m<ipython-input-22-081e6b662753>\u001b[0m in \u001b[0;36m<module>\u001b[1;34m\u001b[0m\n\u001b[0;32m      1\u001b[0m \u001b[1;31m# split\u001b[0m\u001b[1;33m\u001b[0m\u001b[1;33m\u001b[0m\u001b[1;33m\u001b[0m\u001b[0m\n\u001b[0;32m      2\u001b[0m \u001b[1;32mfrom\u001b[0m \u001b[0msklearn\u001b[0m\u001b[1;33m.\u001b[0m\u001b[0mmodel_selection\u001b[0m \u001b[1;32mimport\u001b[0m \u001b[0mKFold\u001b[0m\u001b[1;33m,\u001b[0m \u001b[0mcross_val_score\u001b[0m\u001b[1;33m,\u001b[0m \u001b[0mtrain_test_split\u001b[0m\u001b[1;33m\u001b[0m\u001b[1;33m\u001b[0m\u001b[0m\n\u001b[1;32m----> 3\u001b[1;33m \u001b[0mX_train\u001b[0m\u001b[1;33m,\u001b[0m \u001b[0mX_val\u001b[0m\u001b[1;33m,\u001b[0m \u001b[0my_train\u001b[0m\u001b[1;33m,\u001b[0m \u001b[0my_val\u001b[0m \u001b[1;33m=\u001b[0m \u001b[0mtrain_test_split\u001b[0m\u001b[1;33m(\u001b[0m\u001b[0mdata_array\u001b[0m\u001b[1;33m,\u001b[0m \u001b[0my_data\u001b[0m\u001b[1;33m,\u001b[0m \u001b[0mtest_size\u001b[0m\u001b[1;33m=\u001b[0m\u001b[1;36m0.3\u001b[0m\u001b[1;33m,\u001b[0m \u001b[0mrandom_state\u001b[0m\u001b[1;33m=\u001b[0m\u001b[1;36m42\u001b[0m\u001b[1;33m)\u001b[0m\u001b[1;33m\u001b[0m\u001b[1;33m\u001b[0m\u001b[0m\n\u001b[0m\u001b[0;32m      4\u001b[0m \u001b[0mX_train\u001b[0m\u001b[1;33m.\u001b[0m\u001b[0mshape\u001b[0m\u001b[1;33m\u001b[0m\u001b[1;33m\u001b[0m\u001b[0m\n",
      "\u001b[1;31mNameError\u001b[0m: name 'data_array' is not defined"
     ]
    }
   ],
   "source": [
    "# split\n",
    "from sklearn.model_selection import KFold, cross_val_score, train_test_split\n",
    "X_train, X_val, y_train, y_val = train_test_split(data_array, y_data, test_size=0.3, random_state=42)\n",
    "X_train.shape"
   ]
  },
  {
   "cell_type": "code",
   "execution_count": 23,
   "id": "87e80732",
   "metadata": {},
   "outputs": [
    {
     "ename": "NameError",
     "evalue": "name 'X_train' is not defined",
     "output_type": "error",
     "traceback": [
      "\u001b[1;31m---------------------------------------------------------------------------\u001b[0m",
      "\u001b[1;31mNameError\u001b[0m                                 Traceback (most recent call last)",
      "\u001b[1;32m<ipython-input-23-8376b2127aa7>\u001b[0m in \u001b[0;36m<module>\u001b[1;34m\u001b[0m\n\u001b[1;32m----> 1\u001b[1;33m \u001b[0mX_train\u001b[0m \u001b[1;33m=\u001b[0m \u001b[0mX_train\u001b[0m\u001b[1;33m.\u001b[0m\u001b[0mreshape\u001b[0m\u001b[1;33m(\u001b[0m\u001b[1;33m-\u001b[0m\u001b[1;36m1\u001b[0m\u001b[1;33m,\u001b[0m \u001b[1;36m100\u001b[0m\u001b[1;33m,\u001b[0m \u001b[1;36m100\u001b[0m\u001b[1;33m,\u001b[0m \u001b[1;36m1\u001b[0m\u001b[1;33m)\u001b[0m\u001b[1;33m\u001b[0m\u001b[1;33m\u001b[0m\u001b[0m\n\u001b[0m\u001b[0;32m      2\u001b[0m \u001b[0mX_val\u001b[0m \u001b[1;33m=\u001b[0m \u001b[0mX_val\u001b[0m\u001b[1;33m.\u001b[0m\u001b[0mreshape\u001b[0m\u001b[1;33m(\u001b[0m\u001b[1;33m-\u001b[0m\u001b[1;36m1\u001b[0m\u001b[1;33m,\u001b[0m \u001b[1;36m100\u001b[0m\u001b[1;33m,\u001b[0m \u001b[1;36m100\u001b[0m\u001b[1;33m,\u001b[0m \u001b[1;36m1\u001b[0m\u001b[1;33m)\u001b[0m\u001b[1;33m\u001b[0m\u001b[1;33m\u001b[0m\u001b[0m\n",
      "\u001b[1;31mNameError\u001b[0m: name 'X_train' is not defined"
     ]
    }
   ],
   "source": [
    "X_train = X_train.reshape(-1, 100, 100, 1)\n",
    "X_val = X_val.reshape(-1, 100, 100, 1)"
   ]
  },
  {
   "cell_type": "markdown",
   "id": "90d4faf3",
   "metadata": {},
   "source": [
    "## Test"
   ]
  },
  {
   "cell_type": "markdown",
   "id": "ae9eb519",
   "metadata": {},
   "source": []
  }
 ],
 "metadata": {
  "kernelspec": {
   "display_name": "Python [conda env:tf2.4] *",
   "language": "python",
   "name": "conda-env-tf2.4-py"
  },
  "language_info": {
   "codemirror_mode": {
    "name": "ipython",
    "version": 3
   },
   "file_extension": ".py",
   "mimetype": "text/x-python",
   "name": "python",
   "nbconvert_exporter": "python",
   "pygments_lexer": "ipython3",
   "version": "3.8.0"
  }
 },
 "nbformat": 4,
 "nbformat_minor": 5
}
