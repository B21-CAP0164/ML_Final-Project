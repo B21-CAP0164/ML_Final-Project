{
 "cells": [
  {
   "cell_type": "code",
   "execution_count": 2,
   "id": "a689f720",
   "metadata": {},
   "outputs": [
    {
     "name": "stdout",
     "output_type": "stream",
     "text": [
      "/d/ML_Final-Project\n",
      "DNN_TF.ipynb\n",
      "Dataset\n",
      "Dataset-20210522T165736Z-001.zip\n",
      "README.md\n",
      "generate_json.ipynb\n",
      "test1.jpg\n"
     ]
    }
   ],
   "source": [
    "!pwd\n",
    "!ls"
   ]
  },
  {
   "cell_type": "code",
   "execution_count": 5,
   "id": "d51522a6",
   "metadata": {},
   "outputs": [],
   "source": [
    "import json\n",
    "import base64\n",
    "import tensorflow as tf\n",
    "\n",
    "IMAGE_URI='test1.jpg'\n",
    "\n",
    "with open(IMAGE_URI, 'rb') as image_file:\n",
    "  encoded_string = base64.b64encode(image_file.read()).decode('utf-8')\n",
    "\n",
    "image_bytes = {'b64': str(encoded_string)}\n",
    "instances = {'image_bytes': image_bytes, 'key': '1'}\n",
    "with open(\"prediction_instances.json\",\"w\") as f:\n",
    "  f.write(json.dumps(instances))"
   ]
  }
 ],
 "metadata": {
  "kernelspec": {
   "display_name": "Python [conda env:tf2.4] *",
   "language": "python",
   "name": "conda-env-tf2.4-py"
  },
  "language_info": {
   "codemirror_mode": {
    "name": "ipython",
    "version": 3
   },
   "file_extension": ".py",
   "mimetype": "text/x-python",
   "name": "python",
   "nbconvert_exporter": "python",
   "pygments_lexer": "ipython3",
   "version": "3.8.0"
  }
 },
 "nbformat": 4,
 "nbformat_minor": 5
}
